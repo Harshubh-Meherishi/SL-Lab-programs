{
 "cells": [
  {
   "cell_type": "markdown",
   "metadata": {},
   "source": [
    "# ChangeString"
   ]
  },
  {
   "cell_type": "code",
   "execution_count": 105,
   "metadata": {},
   "outputs": [],
   "source": [
    "def ChangeString(st1):\n",
    "    st2=\"\"\n",
    "    for i in st1:\n",
    "        if i.isalpha():\n",
    "            x=chr(ord(i)+1)\n",
    "            if x.lower() in ('a','e','i','o','u'):\n",
    "                x=x.upper()\n",
    "            if ord(x) in range(91,97):\n",
    "                x='a'\n",
    "            st2+=x\n",
    "        else:\n",
    "            st2+=i\n",
    "    print(st2)\n"
   ]
  },
  {
   "cell_type": "code",
   "execution_count": 109,
   "metadata": {},
   "outputs": [
    {
     "name": "stdout",
     "output_type": "stream",
     "text": [
      "hello'3\n",
      "Ifmmp'3\n"
     ]
    }
   ],
   "source": [
    "(ChangeString(input()))"
   ]
  },
  {
   "cell_type": "markdown",
   "metadata": {},
   "source": [
    "# LetterSurround"
   ]
  },
  {
   "cell_type": "code",
   "execution_count": 54,
   "metadata": {},
   "outputs": [],
   "source": [
    "def LetterSurround(st1):\n",
    "    c=False\n",
    "    if st1[0].isalpha():\n",
    "        return False\n",
    "    if \"=\" not in st1:\n",
    "        return False\n",
    "    for i in range(1,len(st1)-1):\n",
    "        if st1[i].isalpha():\n",
    "            if st1[i-1]==st1[i+1]==\"+\":\n",
    "                c=True\n",
    "            else:\n",
    "                c=False\n",
    "    \n",
    "    return c\n",
    "            "
   ]
  },
  {
   "cell_type": "code",
   "execution_count": 59,
   "metadata": {},
   "outputs": [
    {
     "name": "stdout",
     "output_type": "stream",
     "text": [
      "+d+=3=+d+\n"
     ]
    },
    {
     "data": {
      "text/plain": [
       "True"
      ]
     },
     "execution_count": 59,
     "metadata": {},
     "output_type": "execute_result"
    }
   ],
   "source": [
    "LetterSurround(input())"
   ]
  },
  {
   "cell_type": "markdown",
   "metadata": {},
   "source": [
    "# HourMinute"
   ]
  },
  {
   "cell_type": "code",
   "execution_count": 106,
   "metadata": {},
   "outputs": [],
   "source": [
    "def HourMinute(num):\n",
    "    hr=int(num/60)\n",
    "    mins=num%60\n",
    "    return str(hr)+\":\"+str(mins)"
   ]
  },
  {
   "cell_type": "code",
   "execution_count": 58,
   "metadata": {},
   "outputs": [
    {
     "name": "stdout",
     "output_type": "stream",
     "text": [
      "126\n",
      "2:6\n"
     ]
    }
   ],
   "source": [
    "print(HourMinute(int(input())))"
   ]
  },
  {
   "cell_type": "markdown",
   "metadata": {},
   "source": [
    "# AgeConvert"
   ]
  },
  {
   "cell_type": "code",
   "execution_count": 88,
   "metadata": {},
   "outputs": [],
   "source": [
    "from datetime import date,datetime\n",
    "\n",
    "def AgeConvert(num):\n",
    "    today=list(map(int,str(date.today()).split(\"-\")))\n",
    "    dob=list(map(int,num.split(\"-\")))[::-1]\n",
    "    dob=datetime(dob[0],dob[1],dob[2])\n",
    "    years = divmod((datetime.now()-dob).total_seconds(), 31556926)[0]\n",
    "    print(int(years))"
   ]
  },
  {
   "cell_type": "code",
   "execution_count": 89,
   "metadata": {},
   "outputs": [
    {
     "name": "stdout",
     "output_type": "stream",
     "text": [
      "20\n"
     ]
    }
   ],
   "source": [
    "AgeConvert(\"30-03-1999\")"
   ]
  },
  {
   "cell_type": "code",
   "execution_count": 90,
   "metadata": {},
   "outputs": [
    {
     "name": "stdout",
     "output_type": "stream",
     "text": [
      "27\n"
     ]
    }
   ],
   "source": [
    "AgeConvert(\"28-02-1992\")"
   ]
  },
  {
   "cell_type": "code",
   "execution_count": 91,
   "metadata": {},
   "outputs": [
    {
     "name": "stdout",
     "output_type": "stream",
     "text": [
      "Enter DOB as dd-mm-yyyy : 13-03-1993\n",
      "26\n"
     ]
    }
   ],
   "source": [
    "AgeConvert(input(\"Enter DOB as dd-mm-yyyy : \"))"
   ]
  },
  {
   "cell_type": "markdown",
   "metadata": {},
   "source": [
    "# OddRange"
   ]
  },
  {
   "cell_type": "code",
   "execution_count": 93,
   "metadata": {},
   "outputs": [],
   "source": [
    "def OddRange(num1,num2):\n",
    "    if num1%2==1:\n",
    "        return list(range(num1,num2,2))\n",
    "    else:\n",
    "        return list(range(num1+1,num2,2))"
   ]
  },
  {
   "cell_type": "code",
   "execution_count": 94,
   "metadata": {},
   "outputs": [
    {
     "data": {
      "text/plain": [
       "[13, 15, 17, 19, 21, 23, 25, 27, 29]"
      ]
     },
     "execution_count": 94,
     "metadata": {},
     "output_type": "execute_result"
    }
   ],
   "source": [
    "OddRange(12,31)"
   ]
  },
  {
   "cell_type": "code",
   "execution_count": 95,
   "metadata": {},
   "outputs": [
    {
     "data": {
      "text/plain": [
       "[13, 15, 17, 19, 21, 23, 25, 27, 29]"
      ]
     },
     "execution_count": 95,
     "metadata": {},
     "output_type": "execute_result"
    }
   ],
   "source": [
    "OddRange(13,31)"
   ]
  }
 ],
 "metadata": {
  "kernelspec": {
   "display_name": "Python 3",
   "language": "python",
   "name": "python3"
  },
  "language_info": {
   "codemirror_mode": {
    "name": "ipython",
    "version": 3
   },
   "file_extension": ".py",
   "mimetype": "text/x-python",
   "name": "python",
   "nbconvert_exporter": "python",
   "pygments_lexer": "ipython3",
   "version": "3.4.3"
  }
 },
 "nbformat": 4,
 "nbformat_minor": 2
}
